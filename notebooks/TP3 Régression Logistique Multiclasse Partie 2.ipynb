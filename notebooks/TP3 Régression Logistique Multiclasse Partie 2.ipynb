{
 "cells": [
  {
   "cell_type": "code",
   "execution_count": null,
   "id": "20dbbae6-8c0e-48fc-a06a-0fe44125fa4d",
   "metadata": {},
   "outputs": [],
   "source": [
    "import numpy as np\n",
    "import pandas as pd\n",
    "import matplotlib.pyplot as plt\n",
    "from sklearn.datasets import load_iris\n",
    "from sklearn.model_selection import train_test_split\n",
    "from sklearn.linear_model import LogisticRegression\n",
    "from sklearn.metrics import confusion_matrix, classification_report\n"
   ]
  },
  {
   "cell_type": "code",
   "execution_count": null,
   "id": "b98d0a74-7d82-4b80-b3f3-ec507bfc592c",
   "metadata": {},
   "outputs": [],
   "source": [
    "# 1. Charger les données\n",
    "iris = load_iris()\n",
    "X = iris.data\n",
    "y = iris.target\n",
    "class_names = iris.target_names\n",
    "features_names = iris.feature_names\n",
    "dataset = pd.DataFrame(X, columns=features_names)\n",
    "dataset['target'] = y\n",
    "\n",
    "# 2. Afficher\n",
    "dataset.head()"
   ]
  },
  {
   "cell_type": "code",
   "execution_count": null,
   "id": "1110ab8f-d7cf-48c5-b347-b574cf2e43e2",
   "metadata": {
    "scrolled": true
   },
   "outputs": [],
   "source": [
    "# 3. Scatter plot des deux premières dimensions\n",
    "plt.figure(figsize=(8, 6))\n",
    "for label, color, marker in zip(list(dataset['target'].unique()), ['blue', 'green', 'red'], ['o', 's', 'x']):\n",
    "    idx = np.where(y == label)\n",
    "    plt.scatter(X[idx, 0], X[idx, 2], c=color, marker=marker, label=iris.target_names[label])\n",
    "plt.xlabel(iris.feature_names[0])\n",
    "plt.ylabel(iris.feature_names[2])\n",
    "plt.title(\"Iris : Sepal Length vs Petal Length\")\n",
    "plt.legend()\n",
    "plt.show()\n"
   ]
  },
  {
   "cell_type": "code",
   "execution_count": null,
   "id": "d032512d-db98-48e6-b632-1a5430260665",
   "metadata": {},
   "outputs": [],
   "source": [
    "# 3. Scatter plot : Sepal Width vs Petal Width\n",
    "plt.figure(figsize=(8, 6))\n",
    "for label, color, marker in zip([0, 1, 2], ['blue', 'green', 'red'], ['o', 's', 'x']):\n",
    "    idx = np.where(y == label)\n",
    "    plt.scatter(X[idx, 1], X[idx, 3], c=color, marker=marker, label=iris.target_names[label])\n",
    "plt.xlabel(iris.feature_names[1])  # Sepal Width\n",
    "plt.ylabel(iris.feature_names[3])  # Petal Width\n",
    "plt.title(\"Iris : Sepal Width vs Petal Width\")\n",
    "plt.legend()\n",
    "plt.show()\n"
   ]
  },
  {
   "cell_type": "code",
   "execution_count": null,
   "id": "27fa6d71-d3bc-4d07-91fb-8300d9451cda",
   "metadata": {},
   "outputs": [],
   "source": [
    "class_counts = pd.Series(y).value_counts(normalize=True)\n",
    "print(f\"Le pourcantage de chaque classe est : \\n{np.round(class_counts*100,2)}\")"
   ]
  },
  {
   "cell_type": "code",
   "execution_count": null,
   "id": "f0c9c696-97bd-4d3b-84f0-e719879473db",
   "metadata": {},
   "outputs": [],
   "source": [
    "# 4. Train/test split\n",
    "X_train, X_test, y_train, y_test = train_test_split(\n",
    "    X, y, test_size=0.3, random_state=42, stratify=y\n",
    ")"
   ]
  },
  {
   "cell_type": "code",
   "execution_count": null,
   "id": "6f6230f6-2d08-48e0-9e03-983672e63b27",
   "metadata": {},
   "outputs": [],
   "source": [
    "# Après division\n",
    "print(\"\\nProportions dans y_train :\")\n",
    "print(pd.Series(y_train).value_counts(normalize=True) * 100)\n",
    "\n",
    "print(\"\\nProportions dans y_test :\")\n",
    "print(pd.Series(y_test).value_counts(normalize=True) * 100)\n"
   ]
  },
  {
   "cell_type": "code",
   "execution_count": null,
   "id": "99e2c0fd-2ae1-4d09-93f4-64e06cbf43ed",
   "metadata": {},
   "outputs": [],
   "source": [
    "# 5. Entraîner le modèle multinomial\n",
    "model = LogisticRegression(multi_class='multinomial', solver='lbfgs', max_iter=200)\n",
    "model.fit(X_train, y_train)"
   ]
  },
  {
   "cell_type": "code",
   "execution_count": null,
   "id": "eb80db28-1cb0-4552-b7b2-e61f1017b817",
   "metadata": {},
   "outputs": [],
   "source": [
    "# 6. Afficher les coefficients\n",
    "coef_df = pd.DataFrame(model.coef_, columns=iris.feature_names)\n",
    "coef_df['Classe'] = iris.target_names\n",
    "coef_df"
   ]
  },
  {
   "cell_type": "code",
   "execution_count": null,
   "id": "9618422a-4d62-4c10-964d-3758206a0955",
   "metadata": {},
   "outputs": [],
   "source": [
    "# 7. Matrice de confusion\n",
    "y_pred = model.predict(X_test)\n",
    "cm = confusion_matrix(y_test, y_pred)\n",
    "print(\"\\nMatrice de confusion :\\n\", cm)"
   ]
  },
  {
   "cell_type": "code",
   "execution_count": null,
   "id": "e1077bbf-1978-46ef-8523-8005134eabf1",
   "metadata": {},
   "outputs": [],
   "source": [
    "# Tracer la matrice de confusion\n",
    "\n",
    "fig, ax = plt.subplots(figsize=(6, 6))\n",
    "im = ax.imshow(cm, cmap=plt.cm.Blues)\n",
    "\n",
    "# Annotation de chaque cellule\n",
    "n_classes = len(class_names)\n",
    "for i in range(n_classes):\n",
    "    for j in range(n_classes):\n",
    "        ax.text(j, i, cm[i, j],\n",
    "                ha=\"center\", va=\"center\",\n",
    "                color=\"white\" if cm[i, j] > cm.max()/2 else \"black\")\n",
    "\n",
    "# Labels, titre, et ticks\n",
    "ax.set_xticks(np.arange(n_classes))\n",
    "ax.set_yticks(np.arange(n_classes))\n",
    "ax.set_xticklabels(class_names, rotation=45, ha=\"center\")\n",
    "ax.set_yticklabels(class_names)\n",
    "ax.set_xlabel('Prédictions')\n",
    "ax.set_ylabel('Valeurs réelles')\n",
    "ax.set_title('Matrice de Confusion — Iris')\n",
    "\n",
    "# Barre de couleur\n",
    "fig.colorbar(im, ax=ax)\n",
    "\n",
    "plt.tight_layout()\n",
    "plt.show()"
   ]
  },
  {
   "cell_type": "code",
   "execution_count": null,
   "id": "d108913e-68cf-45a9-a703-a9369220e388",
   "metadata": {},
   "outputs": [],
   "source": [
    "\n",
    "# 8. Rapport de classification\n",
    "print(\"\\nRapport de classification :\\n\",\n",
    "      classification_report(y_test, y_pred, target_names=iris.target_names))"
   ]
  },
  {
   "cell_type": "code",
   "execution_count": null,
   "id": "d504e1c0-e90c-4d9c-ab60-c438f16e975c",
   "metadata": {},
   "outputs": [],
   "source": [
    "# 9. Frontière de décision sur Petal Length & Petal Width\n",
    "X2 = iris.data[:, [2, 3]]\n",
    "X2_train, X2_test, y2_train, y2_test = train_test_split(\n",
    "    X2, y, test_size=0.3, random_state=42, stratify=y\n",
    ")\n",
    "model2 = LogisticRegression(multi_class='multinomial', solver='lbfgs', max_iter=200)\n",
    "model2.fit(X2_train, y2_train)"
   ]
  },
  {
   "cell_type": "code",
   "execution_count": null,
   "id": "b73c1d02-fa23-4b44-8581-b232a26cda05",
   "metadata": {},
   "outputs": [],
   "source": [
    "x_min, x_max = X2[:, 0].min() , X2[:, 0].max() \n",
    "y_min, y_max = X2[:, 1].min() , X2[:, 1].max() \n",
    "xx, yy = np.meshgrid(np.arange(x_min, x_max, 0.2),\n",
    "                     np.arange(y_min, y_max, 0.2))\n",
    "Z = model2.predict(np.c_[xx.ravel(), yy.ravel()]).reshape(xx.shape)"
   ]
  },
  {
   "cell_type": "code",
   "execution_count": null,
   "id": "0d3d1c8f-849b-4b53-8570-bf563c3fb86f",
   "metadata": {},
   "outputs": [],
   "source": [
    "plt.figure(figsize=(8, 6))\n",
    "plt.contourf(xx, yy, Z, alpha=0.5, cmap='coolwarm')\n",
    "plt.scatter(X2[:, 0], X2[:, 1], c=y, edgecolor='k', cmap='coolwarm')\n",
    "plt.xlabel('Petal Length')\n",
    "plt.ylabel('Petal Width')\n",
    "plt.title('Frontière de Décision - Iris (Multiclass)')\n",
    "plt.show()"
   ]
  },
  {
   "cell_type": "code",
   "execution_count": null,
   "id": "de7c6953-8b4a-4b00-8607-a1b5f6453754",
   "metadata": {},
   "outputs": [],
   "source": []
  },
  {
   "cell_type": "code",
   "execution_count": null,
   "id": "12c30d9a-f039-4eab-ac29-bd7fdc2e9bf2",
   "metadata": {},
   "outputs": [],
   "source": []
  },
  {
   "cell_type": "code",
   "execution_count": null,
   "id": "637624b8-9890-4db8-8aa3-c7e968d8a071",
   "metadata": {},
   "outputs": [],
   "source": []
  }
 ],
 "metadata": {
  "kernelspec": {
   "display_name": "Python 3 (ipykernel)",
   "language": "python",
   "name": "python3"
  },
  "language_info": {
   "codemirror_mode": {
    "name": "ipython",
    "version": 3
   },
   "file_extension": ".py",
   "mimetype": "text/x-python",
   "name": "python",
   "nbconvert_exporter": "python",
   "pygments_lexer": "ipython3",
   "version": "3.11.7"
  }
 },
 "nbformat": 4,
 "nbformat_minor": 5
}
