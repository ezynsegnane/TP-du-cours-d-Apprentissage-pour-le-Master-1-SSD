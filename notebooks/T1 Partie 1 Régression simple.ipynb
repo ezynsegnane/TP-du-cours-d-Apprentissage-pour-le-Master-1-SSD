{
 "cells": [
  {
   "cell_type": "code",
   "execution_count": 448,
   "id": "6bef08fa-34e3-403f-94a2-e9224d7495ba",
   "metadata": {},
   "outputs": [],
   "source": [
    "import pandas as pd\n",
    "import os\n",
    "import matplotlib.pyplot as plt\n",
    "from sklearn.model_selection import train_test_split\n",
    "from sklearn.linear_model import LinearRegression\n",
    "import numpy as np\n",
    "from sklearn.metrics import mean_squared_error,r2_score,mean_absolute_error"
   ]
  },
  {
   "cell_type": "code",
   "execution_count": 450,
   "id": "3d941c5c-3658-4ebf-af40-5c55adf3988e",
   "metadata": {},
   "outputs": [],
   "source": [
    "data = pd.read_csv(\"loyer_surface.csv\",sep=',')"
   ]
  },
  {
   "cell_type": "code",
   "execution_count": 452,
   "id": "d32315ee-a4fe-4422-8630-72e71be8d0a2",
   "metadata": {},
   "outputs": [
    {
     "data": {
      "text/plain": [
       "'C:\\\\Users\\\\TOSHIBA'"
      ]
     },
     "execution_count": 452,
     "metadata": {},
     "output_type": "execute_result"
    }
   ],
   "source": [
    "os.getcwd()"
   ]
  },
  {
   "cell_type": "code",
   "execution_count": 454,
   "id": "e117276b-dc32-4dfd-94f1-bb72a9604fa6",
   "metadata": {},
   "outputs": [
    {
     "data": {
      "text/html": [
       "<div>\n",
       "<style scoped>\n",
       "    .dataframe tbody tr th:only-of-type {\n",
       "        vertical-align: middle;\n",
       "    }\n",
       "\n",
       "    .dataframe tbody tr th {\n",
       "        vertical-align: top;\n",
       "    }\n",
       "\n",
       "    .dataframe thead th {\n",
       "        text-align: right;\n",
       "    }\n",
       "</style>\n",
       "<table border=\"1\" class=\"dataframe\">\n",
       "  <thead>\n",
       "    <tr style=\"text-align: right;\">\n",
       "      <th></th>\n",
       "      <th>loyer</th>\n",
       "      <th>surface</th>\n",
       "    </tr>\n",
       "  </thead>\n",
       "  <tbody>\n",
       "    <tr>\n",
       "      <th>0</th>\n",
       "      <td>1330</td>\n",
       "      <td>37</td>\n",
       "    </tr>\n",
       "    <tr>\n",
       "      <th>1</th>\n",
       "      <td>1400</td>\n",
       "      <td>32</td>\n",
       "    </tr>\n",
       "    <tr>\n",
       "      <th>2</th>\n",
       "      <td>904</td>\n",
       "      <td>26</td>\n",
       "    </tr>\n",
       "    <tr>\n",
       "      <th>3</th>\n",
       "      <td>955</td>\n",
       "      <td>30</td>\n",
       "    </tr>\n",
       "    <tr>\n",
       "      <th>4</th>\n",
       "      <td>2545</td>\n",
       "      <td>70</td>\n",
       "    </tr>\n",
       "  </tbody>\n",
       "</table>\n",
       "</div>"
      ],
      "text/plain": [
       "   loyer  surface\n",
       "0   1330       37\n",
       "1   1400       32\n",
       "2    904       26\n",
       "3    955       30\n",
       "4   2545       70"
      ]
     },
     "execution_count": 454,
     "metadata": {},
     "output_type": "execute_result"
    }
   ],
   "source": [
    "data.head()"
   ]
  },
  {
   "cell_type": "code",
   "execution_count": 456,
   "id": "668c4eaa-f162-444c-8443-689a4eb436b5",
   "metadata": {},
   "outputs": [],
   "source": [
    "x = data['surface']\n",
    "y = data['loyer']"
   ]
  },
  {
   "cell_type": "code",
   "execution_count": 458,
   "id": "7ec66305-f7e6-43e7-9b5f-52d058e2d1cc",
   "metadata": {},
   "outputs": [
    {
     "data": {
      "image/png": "[encoded data removed]",
      "text/plain": [
       "<Figure size 640x480 with 1 Axes>"
      ]
     },
     "metadata": {},
     "output_type": "display_data"
    }
   ],
   "source": [
    "plt.scatter(x,y,color='green')\n",
    "plt.show()"
   ]
  },
  {
   "cell_type": "code",
   "execution_count": 460,
   "id": "47df94f7-c124-4fa5-9a71-dacdf0780caa",
   "metadata": {},
   "outputs": [],
   "source": [
    "loyer_exclu_sup_10mil = data['loyer']<10000"
   ]
  },
  {
   "cell_type": "code",
   "execution_count": 462,
   "id": "d349f64b-e9e4-4e87-a372-ba1247b11013",
   "metadata": {},
   "outputs": [],
   "source": [
    "new_data = data[loyer_exclu_sup_10mil]"
   ]
  },
  {
   "cell_type": "code",
   "execution_count": 464,
   "id": "8e5251d4-6025-416e-993f-e17ce7c23219",
   "metadata": {},
   "outputs": [
    {
     "data": {
      "text/plain": [
       "pandas.core.series.Series"
      ]
     },
     "execution_count": 464,
     "metadata": {},
     "output_type": "execute_result"
    }
   ],
   "source": [
    "type(new_data['loyer'])"
   ]
  },
  {
   "cell_type": "code",
   "execution_count": 466,
   "id": "c106af01-495c-494f-aede-38e55840e8ce",
   "metadata": {},
   "outputs": [],
   "source": [
    "loyer_data = data['loyer']\n",
    "surface_data = data['surface']"
   ]
  },
  {
   "cell_type": "code",
   "execution_count": 468,
   "id": "3980eee6-9eb5-4a25-a99d-8a85ab905388",
   "metadata": {},
   "outputs": [
    {
     "name": "stdout",
     "output_type": "stream",
     "text": [
      "Min de loyer dans Data est 488 et Max de loyer dans Data est : 25000\n"
     ]
    }
   ],
   "source": [
    "print(f\"Min de loyer dans Data est {min(loyer_data)} et Max de loyer dans Data est : {max(loyer_data)}\")"
   ]
  },
  {
   "cell_type": "code",
   "execution_count": 470,
   "id": "0f12d99c-9bb3-4d90-a8a8-dcd6a0231708",
   "metadata": {},
   "outputs": [],
   "source": [
    "loyer_new_data = new_data['loyer']\n",
    "surface_new_data = new_data['surface']"
   ]
  },
  {
   "cell_type": "code",
   "execution_count": 472,
   "id": "fc7da428-cb14-4c50-86c2-6b6147117edf",
   "metadata": {},
   "outputs": [
    {
     "name": "stdout",
     "output_type": "stream",
     "text": [
      "Min de loyer dans Data est 488 et Max de loyer dans Data est : 9500\n"
     ]
    }
   ],
   "source": [
    "print(f\"Min de loyer dans Data est {min(loyer_new_data)} et Max de loyer dans Data est : {max(loyer_new_data)}\")"
   ]
  },
  {
   "cell_type": "code",
   "execution_count": 474,
   "id": "b66e1c9f-b101-40ee-8f46-5aceb1d0b394",
   "metadata": {},
   "outputs": [
    {
     "name": "stdout",
     "output_type": "stream",
     "text": [
      "La taille de données avant l'exclusion de loyer sup à 10mil est de : 545 observations\n"
     ]
    }
   ],
   "source": [
    "print(f\"La taille de données avant l'exclusion de loyer sup à 10mil est de : {data.shape[0]} observations\")"
   ]
  },
  {
   "cell_type": "code",
   "execution_count": 476,
   "id": "53678f59-86cf-43de-9fe6-57a8e6a85af0",
   "metadata": {},
   "outputs": [
    {
     "name": "stdout",
     "output_type": "stream",
     "text": [
      "La taille de données après l'exclusion de loyer sup à 10mil est de : 536 observations\n"
     ]
    }
   ],
   "source": [
    "print(f\"La taille de données après l'exclusion de loyer sup à 10mil est de : {new_data.shape[0]} observations\")"
   ]
  },
  {
   "cell_type": "code",
   "execution_count": 478,
   "id": "6c580e96-482c-4c38-a5c3-f641eafc702d",
   "metadata": {},
   "outputs": [
    {
     "name": "stdout",
     "output_type": "stream",
     "text": [
      "La différence donc est de  : 9 observations\n"
     ]
    }
   ],
   "source": [
    "print(f\"La différence donc est de  : {data.shape[0] - new_data.shape[0]} observations\")"
   ]
  },
  {
   "cell_type": "code",
   "execution_count": 480,
   "id": "189d96aa-64cf-40da-9794-7da4642a48a9",
   "metadata": {},
   "outputs": [],
   "source": [
    "new_x = new_data['surface']\n",
    "new_y = new_data['loyer']"
   ]
  },
  {
   "cell_type": "code",
   "execution_count": 482,
   "id": "10a4591d-ba0c-4892-aa7f-4b2bd060dbcf",
   "metadata": {},
   "outputs": [
    {
     "data": {
      "image/png": "[encoded data removed]",
      "text/plain": [
       "<Figure size 640x480 with 1 Axes>"
      ]
     },
     "metadata": {},
     "output_type": "display_data"
    }
   ],
   "source": [
    "plt.scatter(new_x,new_y,color='blue')\n",
    "plt.show()"
   ]
  },
  {
   "cell_type": "code",
   "execution_count": 484,
   "id": "0f307166-a6d3-4712-a21c-0d9f1afe3bb5",
   "metadata": {},
   "outputs": [
    {
     "data": {
      "image/png": "[encoded data removed]",
      "text/plain": [
       "<Figure size 1500x500 with 2 Axes>"
      ]
     },
     "metadata": {},
     "output_type": "display_data"
    }
   ],
   "source": [
    "fig , axs = plt.subplots(1,2,figsize=(15,5))\n",
    "axs[0].scatter(x,y,color='green')\n",
    "axs[0].set_title('Nuage de points avant la suppression de données sup à 10mil')\n",
    "axs[0].set_xlabel(\"Surface\")\n",
    "axs[0].set_ylabel(\"Loyer\")\n",
    "axs[1].scatter(new_x,new_y,color='blue')\n",
    "axs[1].set_title('Nuage de points après la suppression de données sup à 10mil')\n",
    "axs[1].set_xlabel(\"Surface\")\n",
    "axs[1].set_ylabel(\"Loyer\")\n",
    "plt.show()"
   ]
  },
  {
   "cell_type": "code",
   "execution_count": 486,
   "id": "f025d93e-07a8-4123-9c9a-98386e39fb57",
   "metadata": {},
   "outputs": [],
   "source": [
    "X = new_data['surface']\n",
    "y = new_data['loyer']"
   ]
  },
  {
   "cell_type": "code",
   "execution_count": 488,
   "id": "50b36b85-70ca-4e47-bd2c-4e552c831c20",
   "metadata": {},
   "outputs": [],
   "source": [
    "X_train, X_test, y_train, y_test = train_test_split(X,y,test_size=0.2,random_state=10)"
   ]
  },
  {
   "cell_type": "code",
   "execution_count": 490,
   "id": "ece4124e-08e2-4474-81ae-ca5bb4c6487e",
   "metadata": {},
   "outputs": [
    {
     "name": "stdout",
     "output_type": "stream",
     "text": [
      "La taille de X est : (536,) et \n",
      " y est : (536,) \n"
     ]
    }
   ],
   "source": [
    "print(f\"La taille de X est : {X.shape} et \\n y est : {y.shape} \")"
   ]
  },
  {
   "cell_type": "code",
   "execution_count": 492,
   "id": "b1a8b378-5998-4c9e-ad98-4bac02b8ab25",
   "metadata": {},
   "outputs": [
    {
     "name": "stdout",
     "output_type": "stream",
     "text": [
      "La taille de X_train est : (428,) et \n",
      " y_train est : (428,) \n"
     ]
    }
   ],
   "source": [
    "print(f\"La taille de X_train est : {X_train.shape} et \\n y_train est : {y_train.shape} \")"
   ]
  },
  {
   "cell_type": "code",
   "execution_count": 494,
   "id": "dc7690ae-eacb-41e5-a8f2-c3edb49b4b08",
   "metadata": {},
   "outputs": [
    {
     "name": "stdout",
     "output_type": "stream",
     "text": [
      "La taille de X_test est : (108,) et \n",
      " y_test est : (108,) \n"
     ]
    }
   ],
   "source": [
    "print(f\"La taille de X_test est : {X_test.shape} et \\n y_test est : {y_test.shape} \")"
   ]
  },
  {
   "cell_type": "code",
   "execution_count": 496,
   "id": "41b4d125-433d-4de3-8e81-715cd8122b7c",
   "metadata": {},
   "outputs": [],
   "source": [
    "learn_model = LinearRegression()"
   ]
  },
  {
   "cell_type": "code",
   "execution_count": 498,
   "id": "1a5b2528-9bf9-4eca-9810-d2c2fa2fd739",
   "metadata": {},
   "outputs": [],
   "source": [
    "X_train_reshape = np.array(X_train).reshape(-1,1)"
   ]
  },
  {
   "cell_type": "code",
   "execution_count": 500,
   "id": "b055425a-d1e2-4104-800b-b88fd3313d11",
   "metadata": {},
   "outputs": [
    {
     "data": {
      "text/html": [
       "<style>#sk-container-id-2 {color: black;background-color: white;}#sk-container-id-2 pre{padding: 0;}#sk-container-id-2 div.sk-toggleable {background-color: white;}#sk-container-id-2 label.sk-toggleable__label {cursor: pointer;display: block;width: 100%;margin-bottom: 0;padding: 0.3em;box-sizing: border-box;text-align: center;}#sk-container-id-2 label.sk-toggleable__label-arrow:before {content: \"▸\";float: left;margin-right: 0.25em;color: #696969;}#sk-container-id-2 label.sk-toggleable__label-arrow:hover:before {color: black;}#sk-container-id-2 div.sk-estimator:hover label.sk-toggleable__label-arrow:before {color: black;}#sk-container-id-2 div.sk-toggleable__content {max-height: 0;max-width: 0;overflow: hidden;text-align: left;background-color: #f0f8ff;}#sk-container-id-2 div.sk-toggleable__content pre {margin: 0.2em;color: black;border-radius: 0.25em;background-color: #f0f8ff;}#sk-container-id-2 input.sk-toggleable__control:checked~div.sk-toggleable__content {max-height: 200px;max-width: 100%;overflow: auto;}#sk-container-id-2 input.sk-toggleable__control:checked~label.sk-toggleable__label-arrow:before {content: \"▾\";}#sk-container-id-2 div.sk-estimator input.sk-toggleable__control:checked~label.sk-toggleable__label {background-color: #d4ebff;}#sk-container-id-2 div.sk-label input.sk-toggleable__control:checked~label.sk-toggleable__label {background-color: #d4ebff;}#sk-container-id-2 input.sk-hidden--visually {border: 0;clip: rect(1px 1px 1px 1px);clip: rect(1px, 1px, 1px, 1px);height: 1px;margin: -1px;overflow: hidden;padding: 0;position: absolute;width: 1px;}#sk-container-id-2 div.sk-estimator {font-family: monospace;background-color: #f0f8ff;border: 1px dotted black;border-radius: 0.25em;box-sizing: border-box;margin-bottom: 0.5em;}#sk-container-id-2 div.sk-estimator:hover {background-color: #d4ebff;}#sk-container-id-2 div.sk-parallel-item::after {content: \"\";width: 100%;border-bottom: 1px solid gray;flex-grow: 1;}#sk-container-id-2 div.sk-label:hover label.sk-toggleable__label {background-color: #d4ebff;}#sk-container-id-2 div.sk-serial::before {content: \"\";position: absolute;border-left: 1px solid gray;box-sizing: border-box;top: 0;bottom: 0;left: 50%;z-index: 0;}#sk-container-id-2 div.sk-serial {display: flex;flex-direction: column;align-items: center;background-color: white;padding-right: 0.2em;padding-left: 0.2em;position: relative;}#sk-container-id-2 div.sk-item {position: relative;z-index: 1;}#sk-container-id-2 div.sk-parallel {display: flex;align-items: stretch;justify-content: center;background-color: white;position: relative;}#sk-container-id-2 div.sk-item::before, #sk-container-id-2 div.sk-parallel-item::before {content: \"\";position: absolute;border-left: 1px solid gray;box-sizing: border-box;top: 0;bottom: 0;left: 50%;z-index: -1;}#sk-container-id-2 div.sk-parallel-item {display: flex;flex-direction: column;z-index: 1;position: relative;background-color: white;}#sk-container-id-2 div.sk-parallel-item:first-child::after {align-self: flex-end;width: 50%;}#sk-container-id-2 div.sk-parallel-item:last-child::after {align-self: flex-start;width: 50%;}#sk-container-id-2 div.sk-parallel-item:only-child::after {width: 0;}#sk-container-id-2 div.sk-dashed-wrapped {border: 1px dashed gray;margin: 0 0.4em 0.5em 0.4em;box-sizing: border-box;padding-bottom: 0.4em;background-color: white;}#sk-container-id-2 div.sk-label label {font-family: monospace;font-weight: bold;display: inline-block;line-height: 1.2em;}#sk-container-id-2 div.sk-label-container {text-align: center;}#sk-container-id-2 div.sk-container {/* jupyter's `normalize.less` sets `[hidden] { display: none; }` but bootstrap.min.css set `[hidden] { display: none !important; }` so we also need the `!important` here to be able to override the default hidden behavior on the sphinx rendered scikit-learn.org. See: https://github.com/scikit-learn/scikit-learn/issues/21755 */display: inline-block !important;position: relative;}#sk-container-id-2 div.sk-text-repr-fallback {display: none;}</style><div id=\"sk-container-id-2\" class=\"sk-top-container\"><div class=\"sk-text-repr-fallback\"><pre>LinearRegression()</pre><b>In a Jupyter environment, please rerun this cell to show the HTML representation or trust the notebook. <br />On GitHub, the HTML representation is unable to render, please try loading this page with nbviewer.org.</b></div><div class=\"sk-container\" hidden><div class=\"sk-item\"><div class=\"sk-estimator sk-toggleable\"><input class=\"sk-toggleable__control sk-hidden--visually\" id=\"sk-estimator-id-2\" type=\"checkbox\" checked><label for=\"sk-estimator-id-2\" class=\"sk-toggleable__label sk-toggleable__label-arrow\">LinearRegression</label><div class=\"sk-toggleable__content\"><pre>LinearRegression()</pre></div></div></div></div></div>"
      ],
      "text/plain": [
       "LinearRegression()"
      ]
     },
     "execution_count": 500,
     "metadata": {},
     "output_type": "execute_result"
    }
   ],
   "source": [
    "learn_model.fit(X_train_reshape,y_train)"
   ]
  },
  {
   "cell_type": "code",
   "execution_count": 502,
   "id": "b338cc25-8845-4a35-8f40-bd2d1a8a7f1e",
   "metadata": {},
   "outputs": [],
   "source": [
    "X_test_reshape = np.array(X_test).reshape(-1,1)"
   ]
  },
  {
   "cell_type": "code",
   "execution_count": 504,
   "id": "2367d6f1-95df-438d-9014-04525a9baab8",
   "metadata": {},
   "outputs": [
    {
     "data": {
      "text/plain": [
       "array([1920.33158925, 2981.9330735 , 1738.34276338, 3133.59042839,\n",
       "       1920.33158925, 1526.02246653, 1162.04481479, 4892.81574514,\n",
       "       5044.47310004, 3922.20867383, 2830.27571861, 1647.34835045,\n",
       "       1890.00011828, 1010.3874599 , 1738.34276338, 1283.37069871,\n",
       "       1344.03364066, 1101.38187283, 5196.13045493, 1647.34835045,\n",
       "       2344.97218295, 1526.02246653, 1556.35393751, 5529.77663569,\n",
       "       1101.38187283,  616.07833718, 2223.64629904, 2951.60160252,\n",
       "       2708.94983469, 1192.37628577, 4195.19191264, 3831.2142609 ,\n",
       "       2708.94983469, 1738.34276338, 1556.35393751, 2314.64071197,\n",
       "       2860.60718959, 1495.69099556, 2708.94983469, 1192.37628577,\n",
       "       1131.71334381, 2708.94983469,  767.73569207, 1435.0280536 ,\n",
       "       3315.57925426, 1829.33717632, 1980.99453121, 2496.62953784,\n",
       "       3406.5736672 , 2587.62395078, 1344.03364066, 1495.69099556,\n",
       "        889.06157599,  828.39863403, 1799.00570534, 2951.60160252,\n",
       "       2223.64629904, 2526.96100882, 1192.37628577, 1495.69099556,\n",
       "       3163.92189937, 1253.03922773, 2405.63512491, 4832.15280319,\n",
       "       2496.62953784, 4771.48986123, 1799.00570534, 1435.0280536 ,\n",
       "       3315.57925426, 4832.15280319, 1283.37069871, 1253.03922773,\n",
       "       5135.46751297, 3618.89396405, 1344.03364066, 2344.97218295,\n",
       "        919.39304696, 3679.55690601, 2102.32041512,  889.06157599,\n",
       "       1131.71334381, 4892.81574514, 1890.00011828, 1647.34835045,\n",
       "       1010.3874599 ,  919.39304696, 1222.70775675, 1162.04481479,\n",
       "       1313.70216968, 1920.33158925, 1192.37628577, 1374.36511164,\n",
       "       2921.27013154, 2981.9330735 , 3740.21984796, 1040.71893088,\n",
       "       3194.25337035, 2375.30365393, 2557.2924798 ,  737.40422109,\n",
       "       1071.05040186, 2557.2924798 , 1344.03364066, 1495.69099556,\n",
       "       1344.03364066,  889.06157599, 2617.95542176, 1404.69658262])"
      ]
     },
     "execution_count": 504,
     "metadata": {},
     "output_type": "execute_result"
    }
   ],
   "source": [
    "y_pred = learn_model.predict(X_test_reshape)\n",
    "y_pred"
   ]
  },
  {
   "cell_type": "code",
   "execution_count": 506,
   "id": "dd58d9ca-e3a7-4ab6-b7dc-4f3bbc573820",
   "metadata": {},
   "outputs": [],
   "source": [
    "x = X_test\n",
    "y = y_test"
   ]
  },
  {
   "cell_type": "code",
   "execution_count": 508,
   "id": "484c4c5b-2267-4210-bcd1-7f443b989305",
   "metadata": {},
   "outputs": [],
   "source": [
    "x_t = X_test\n",
    "y_p = y_pred"
   ]
  },
  {
   "cell_type": "code",
   "execution_count": 510,
   "id": "30db634c-2859-4ba1-a7bf-97e53100d728",
   "metadata": {},
   "outputs": [
    {
     "name": "stdout",
     "output_type": "stream",
     "text": [
      "La valeur de a est de : 30.33 \n",
      " et la valeur de b : 282.43\n"
     ]
    }
   ],
   "source": [
    "a = np.round(learn_model.coef_[0],2)\n",
    "b = np.round(learn_model.intercept_,2)\n",
    "print(f\"La valeur de a est de : {a} \\n et la valeur de b : {b}\")"
   ]
  },
  {
   "cell_type": "code",
   "execution_count": 512,
   "id": "2ab88004-077d-4170-9745-d374f4b902e9",
   "metadata": {},
   "outputs": [
    {
     "data": {
      "image/png": "[encoded data removed]",
      "text/plain": [
       "<Figure size 640x480 with 1 Axes>"
      ]
     },
     "metadata": {},
     "output_type": "display_data"
    }
   ],
   "source": [
    "plt.scatter(x,y,color=\"black\")\n",
    "plt.plot(x_t,y_p,color='red')\n",
    "plt.text(80,6000,f\"y = {a}x + {b}\",rotation = 30)\n",
    "plt.show()"
   ]
  },
  {
   "cell_type": "code",
   "execution_count": 514,
   "id": "0a04ed51-cf66-4d9f-b47a-410fbbd6bdab",
   "metadata": {},
   "outputs": [
    {
     "data": {
      "text/plain": [
       "52300444.16287608"
      ]
     },
     "execution_count": 514,
     "metadata": {},
     "output_type": "execute_result"
    }
   ],
   "source": [
    "diff_carree = (y_test-y_pred)**2\n",
    "scr = sum(diff_carree)\n",
    "scr"
   ]
  },
  {
   "cell_type": "code",
   "execution_count": 516,
   "id": "46401f5b-9857-4d9e-a941-cda0417d1153",
   "metadata": {},
   "outputs": [
    {
     "data": {
      "text/plain": [
       "216949746.6296296"
      ]
     },
     "execution_count": 516,
     "metadata": {},
     "output_type": "execute_result"
    }
   ],
   "source": [
    "sct = sum((y_test-np.mean(y_test))**2)\n",
    "sct"
   ]
  },
  {
   "cell_type": "code",
   "execution_count": 518,
   "id": "777d26fe-7fb9-4e19-858b-aa64c90c2db3",
   "metadata": {},
   "outputs": [
    {
     "data": {
      "text/plain": [
       "0.76"
      ]
     },
     "execution_count": 518,
     "metadata": {},
     "output_type": "execute_result"
    }
   ],
   "source": [
    "r2 = np.round((1-scr/sct),2)\n",
    "r2"
   ]
  },
  {
   "cell_type": "code",
   "execution_count": 520,
   "id": "e7ea13d5-c34a-476a-83bb-ff06b8ed3975",
   "metadata": {},
   "outputs": [
    {
     "data": {
      "text/plain": [
       "0.76"
      ]
     },
     "execution_count": 520,
     "metadata": {},
     "output_type": "execute_result"
    }
   ],
   "source": [
    "np.round(r2_score(y_test_reshape,y_pred),2)"
   ]
  },
  {
   "cell_type": "code",
   "execution_count": 522,
   "id": "e585fd19-b71e-46ea-9c8a-b1bd00506d88",
   "metadata": {},
   "outputs": [
    {
     "data": {
      "text/plain": [
       "484263.37"
      ]
     },
     "execution_count": 522,
     "metadata": {},
     "output_type": "execute_result"
    }
   ],
   "source": [
    "mse = mean_squared_error(y_test_reshape,y_pred)\n",
    "np.round(mse,2)"
   ]
  },
  {
   "cell_type": "code",
   "execution_count": 524,
   "id": "474b5bbc-088a-4191-afd4-c01cc92aa939",
   "metadata": {},
   "outputs": [
    {
     "data": {
      "text/plain": [
       "695.89"
      ]
     },
     "execution_count": 524,
     "metadata": {},
     "output_type": "execute_result"
    }
   ],
   "source": [
    "rmse = np.sqrt(mse)\n",
    "np.round(rmse,2)"
   ]
  },
  {
   "cell_type": "code",
   "execution_count": 526,
   "id": "d7708a9f-34de-4e9a-9b76-ab721e5701c9",
   "metadata": {},
   "outputs": [
    {
     "data": {
      "text/plain": [
       "412.58"
      ]
     },
     "execution_count": 526,
     "metadata": {},
     "output_type": "execute_result"
    }
   ],
   "source": [
    "mae = mean_absolute_error(y_test_reshape,y_pred)\n",
    "np.round(mae,2)"
   ]
  },
  {
   "cell_type": "code",
   "execution_count": 528,
   "id": "5bcf8293-181c-4a92-82a2-058315b37ed3",
   "metadata": {},
   "outputs": [
    {
     "data": {
      "text/plain": [
       "318    40\n",
       "17     35\n",
       "533    20\n",
       "435    77\n",
       "457    37\n",
       "Name: surface, dtype: int64"
      ]
     },
     "execution_count": 528,
     "metadata": {},
     "output_type": "execute_result"
    }
   ],
   "source": [
    "X_test.tail()"
   ]
  },
  {
   "cell_type": "code",
   "execution_count": 530,
   "id": "c9833c01-5d68-44d2-b3c8-7042c788489c",
   "metadata": {},
   "outputs": [
    {
     "data": {
      "text/plain": [
       "1344.0336406626411"
      ]
     },
     "execution_count": 530,
     "metadata": {},
     "output_type": "execute_result"
    }
   ],
   "source": [
    "y_pred[50]"
   ]
  },
  {
   "cell_type": "code",
   "execution_count": 532,
   "id": "76499828-7f3c-4814-bc04-c53ecbe4eb55",
   "metadata": {},
   "outputs": [],
   "source": [
    "erreurs = y_test - y_pred"
   ]
  },
  {
   "cell_type": "code",
   "execution_count": 534,
   "id": "b9850aeb-f551-4e8d-8da1-c16650a70c8b",
   "metadata": {},
   "outputs": [
    {
     "data": {
      "image/png": "[encoded data removed]",
      "text/plain": [
       "<Figure size 640x480 with 1 Axes>"
      ]
     },
     "metadata": {},
     "output_type": "display_data"
    }
   ],
   "source": [
    "plt.hist(erreurs,color='skyblue',edgecolor='black')\n",
    "plt.show()"
   ]
  },
  {
   "cell_type": "code",
   "execution_count": null,
   "id": "bd0b5028-d88b-4cd0-a80a-cb3cb95f940f",
   "metadata": {},
   "outputs": [],
   "source": []
  }
 ],
 "metadata": {
  "kernelspec": {
   "display_name": "Python 3 (ipykernel)",
   "language": "python",
   "name": "python3"
  },
  "language_info": {
   "codemirror_mode": {
    "name": "ipython",
    "version": 3
   },
   "file_extension": ".py",
   "mimetype": "text/x-python",
   "name": "python",
   "nbconvert_exporter": "python",
   "pygments_lexer": "ipython3",
   "version": "3.11.7"
  }
 },
 "nbformat": 4,
 "nbformat_minor": 5
}
